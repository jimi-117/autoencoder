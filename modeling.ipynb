{
 "cells": [
  {
   "cell_type": "markdown",
   "metadata": {},
   "source": [
    "# Preparation"
   ]
  },
  {
   "cell_type": "code",
   "execution_count": 1,
   "metadata": {},
   "outputs": [],
   "source": [
    "# # These are my default settings\n",
    "# import warnings\n",
    "# warnings.filterwarnings(\"ignore\")\n",
    "\n",
    "# import os\n",
    "# from tqdm import tqdm\n",
    "# import pandas as pd\n",
    "# import numpy as np\n",
    "# import matplotlib.pyplot as plt\n",
    "# %matplotlib inline\n",
    "# import seaborn as sns\n",
    "# import joblib\n",
    "\n",
    "# plt.rcParams[\"figure.figsize\"] = (12, 6)\n",
    "# sns.set()\n",
    "# pd.set_option(\"display.max_columns\", None)\n",
    "\n",
    "# import zipfile\n",
    "# import shutil\n",
    "\n",
    "# # optimized sklearn patch from intel distribution\n",
    "# from sklearnex import unpatch_sklearn\n",
    "# unpatch_sklearn()"
   ]
  },
  {
   "cell_type": "markdown",
   "metadata": {},
   "source": [
    "# Loading train and valid data"
   ]
  },
  {
   "cell_type": "code",
   "execution_count": 2,
   "metadata": {},
   "outputs": [
    {
     "name": "stdout",
     "output_type": "stream",
     "text": [
      "(48000, 784) (48000,) (12000, 784) (12000,)\n"
     ]
    }
   ],
   "source": [
    "import numpy as np\n",
    "file_path = \"./save_file/\"\n",
    "\n",
    "X_train = np.load(file_path + 'X_train.npy')\n",
    "y_train = np.load(file_path + 'y_train.npy')\n",
    "X_valid = np.load(file_path + 'X_valid.npy')\n",
    "y_valid = np.load(file_path + 'y_valid.npy')\n",
    "\n",
    "print(X_train.shape, y_train.shape, X_valid.shape, y_valid.shape)\n"
   ]
  },
  {
   "cell_type": "markdown",
   "metadata": {},
   "source": [
    "# Modeling"
   ]
  },
  {
   "cell_type": "code",
   "execution_count": 3,
   "metadata": {},
   "outputs": [],
   "source": [
    "import tensorflow as tf\n",
    "from tensorflow.keras import layers, losses\n",
    "from tensorflow.keras.models import Model, Sequential\n",
    "# from tensorflow.keras.callbacks import EarlyStopping, ModelCheckpoint, TensorBoard"
   ]
  },
  {
   "cell_type": "code",
   "execution_count": 4,
   "metadata": {},
   "outputs": [],
   "source": [
    "latent_dim = 64 \n",
    "\n",
    "class Autoencoder(Model):\n",
    "    def __init__(self, latent_dim):\n",
    "        super(Autoencoder, self).__init__()\n",
    "        self.latent_dim = latent_dim   \n",
    "        self.encoder = Sequential([\n",
    "        # layers.Flatten(),\n",
    "        layers.Dense(392, activation='relu'),\n",
    "        layers.Dense(latent_dim, activation='relu'),\n",
    "        ])\n",
    "        self.decoder = Sequential([\n",
    "        layers.Dense(392, activation='relu'),\n",
    "        layers.Dense(784, activation='sigmoid'),\n",
    "        # layers.Reshape((28, 28))\n",
    "        ])\n",
    "\n",
    "    def call(self, x):\n",
    "        encoded = self.encoder(x)\n",
    "        decoded = self.decoder(encoded)\n",
    "        return decoded\n",
    "\n",
    "autoencoder = Autoencoder(latent_dim)\n"
   ]
  },
  {
   "cell_type": "code",
   "execution_count": 5,
   "metadata": {},
   "outputs": [],
   "source": [
    "# model_dir = \"./model\"\n",
    "# log_dir = \"./logs\"\n",
    "\n",
    "# if not os.path.exists(model_dir):\n",
    "#     os.mkdir(model_dir)\n",
    "# if not os.path.exists(log_dir):\n",
    "#     os.mkdir(log_dir)\n",
    "\n",
    "# my_callbacks = [\n",
    "#     ModelCheckpoint(filepath=model_dir, monitor='val_loss', save_best_only=False),\n",
    "#     EarlyStopping(monitor='val_loss', min_delta=0, patience=10),\n",
    "#     TensorBoard(log_dir=log_dir)\n",
    "#     ]"
   ]
  },
  {
   "cell_type": "code",
   "execution_count": 6,
   "metadata": {},
   "outputs": [],
   "source": [
    "# Model compile\n",
    "\n",
    "autoencoder.compile(optimizer='adam', loss=losses.MeanSquaredError())"
   ]
  },
  {
   "cell_type": "code",
   "execution_count": 7,
   "metadata": {},
   "outputs": [
    {
     "name": "stdout",
     "output_type": "stream",
     "text": [
      "Epoch 1/50\n",
      "1/1 [==============================] - 3s 3s/step - loss: 0.2314 - val_loss: 0.2263\n",
      "Epoch 2/50\n",
      "1/1 [==============================] - 0s 193ms/step - loss: 0.2263 - val_loss: 0.2180\n",
      "Epoch 3/50\n",
      "1/1 [==============================] - 0s 196ms/step - loss: 0.2180 - val_loss: 0.2050\n",
      "Epoch 4/50\n",
      "1/1 [==============================] - 0s 185ms/step - loss: 0.2050 - val_loss: 0.1871\n",
      "Epoch 5/50\n",
      "1/1 [==============================] - 0s 183ms/step - loss: 0.1871 - val_loss: 0.1649\n",
      "Epoch 6/50\n",
      "1/1 [==============================] - 0s 186ms/step - loss: 0.1649 - val_loss: 0.1404\n",
      "Epoch 7/50\n",
      "1/1 [==============================] - 0s 181ms/step - loss: 0.1405 - val_loss: 0.1172\n",
      "Epoch 8/50\n",
      "1/1 [==============================] - 0s 182ms/step - loss: 0.1174 - val_loss: 0.0988\n",
      "Epoch 9/50\n",
      "1/1 [==============================] - 0s 199ms/step - loss: 0.0991 - val_loss: 0.0871\n",
      "Epoch 10/50\n",
      "1/1 [==============================] - 0s 196ms/step - loss: 0.0875 - val_loss: 0.0812\n",
      "Epoch 11/50\n",
      "1/1 [==============================] - 0s 184ms/step - loss: 0.0817 - val_loss: 0.0786\n",
      "Epoch 12/50\n",
      "1/1 [==============================] - 0s 205ms/step - loss: 0.0791 - val_loss: 0.0773\n",
      "Epoch 13/50\n",
      "1/1 [==============================] - 0s 194ms/step - loss: 0.0778 - val_loss: 0.0764\n",
      "Epoch 14/50\n",
      "1/1 [==============================] - 0s 192ms/step - loss: 0.0769 - val_loss: 0.0757\n",
      "Epoch 15/50\n",
      "1/1 [==============================] - 0s 186ms/step - loss: 0.0762 - val_loss: 0.0752\n",
      "Epoch 16/50\n",
      "1/1 [==============================] - 0s 178ms/step - loss: 0.0756 - val_loss: 0.0747\n",
      "Epoch 17/50\n",
      "1/1 [==============================] - 0s 185ms/step - loss: 0.0751 - val_loss: 0.0743\n",
      "Epoch 18/50\n",
      "1/1 [==============================] - 0s 179ms/step - loss: 0.0746 - val_loss: 0.0738\n",
      "Epoch 19/50\n",
      "1/1 [==============================] - 0s 190ms/step - loss: 0.0741 - val_loss: 0.0732\n",
      "Epoch 20/50\n",
      "1/1 [==============================] - 0s 184ms/step - loss: 0.0735 - val_loss: 0.0727\n",
      "Epoch 21/50\n",
      "1/1 [==============================] - 0s 195ms/step - loss: 0.0730 - val_loss: 0.0724\n",
      "Epoch 22/50\n",
      "1/1 [==============================] - 0s 195ms/step - loss: 0.0728 - val_loss: 0.0722\n",
      "Epoch 23/50\n",
      "1/1 [==============================] - 0s 187ms/step - loss: 0.0725 - val_loss: 0.0717\n",
      "Epoch 24/50\n",
      "1/1 [==============================] - 0s 204ms/step - loss: 0.0721 - val_loss: 0.0712\n",
      "Epoch 25/50\n",
      "1/1 [==============================] - 0s 199ms/step - loss: 0.0715 - val_loss: 0.0708\n",
      "Epoch 26/50\n",
      "1/1 [==============================] - 0s 214ms/step - loss: 0.0711 - val_loss: 0.0704\n",
      "Epoch 27/50\n",
      "1/1 [==============================] - 0s 204ms/step - loss: 0.0707 - val_loss: 0.0698\n",
      "Epoch 28/50\n",
      "1/1 [==============================] - 0s 208ms/step - loss: 0.0702 - val_loss: 0.0693\n",
      "Epoch 29/50\n",
      "1/1 [==============================] - 0s 186ms/step - loss: 0.0696 - val_loss: 0.0688\n",
      "Epoch 30/50\n",
      "1/1 [==============================] - 0s 186ms/step - loss: 0.0691 - val_loss: 0.0683\n",
      "Epoch 31/50\n",
      "1/1 [==============================] - 0s 203ms/step - loss: 0.0686 - val_loss: 0.0677\n",
      "Epoch 32/50\n",
      "1/1 [==============================] - 0s 210ms/step - loss: 0.0680 - val_loss: 0.0670\n",
      "Epoch 33/50\n",
      "1/1 [==============================] - 0s 201ms/step - loss: 0.0673 - val_loss: 0.0664\n",
      "Epoch 34/50\n",
      "1/1 [==============================] - 0s 185ms/step - loss: 0.0667 - val_loss: 0.0658\n",
      "Epoch 35/50\n",
      "1/1 [==============================] - 0s 195ms/step - loss: 0.0661 - val_loss: 0.0652\n",
      "Epoch 36/50\n",
      "1/1 [==============================] - 0s 201ms/step - loss: 0.0655 - val_loss: 0.0646\n",
      "Epoch 37/50\n",
      "1/1 [==============================] - 0s 210ms/step - loss: 0.0648 - val_loss: 0.0639\n",
      "Epoch 38/50\n",
      "1/1 [==============================] - 0s 231ms/step - loss: 0.0642 - val_loss: 0.0633\n",
      "Epoch 39/50\n",
      "1/1 [==============================] - 0s 173ms/step - loss: 0.0636 - val_loss: 0.0627\n",
      "Epoch 40/50\n",
      "1/1 [==============================] - 0s 168ms/step - loss: 0.0630 - val_loss: 0.0621\n",
      "Epoch 41/50\n",
      "1/1 [==============================] - 0s 162ms/step - loss: 0.0624 - val_loss: 0.0615\n",
      "Epoch 42/50\n",
      "1/1 [==============================] - 0s 175ms/step - loss: 0.0618 - val_loss: 0.0609\n",
      "Epoch 43/50\n",
      "1/1 [==============================] - 0s 156ms/step - loss: 0.0612 - val_loss: 0.0603\n",
      "Epoch 44/50\n",
      "1/1 [==============================] - 0s 169ms/step - loss: 0.0606 - val_loss: 0.0597\n",
      "Epoch 45/50\n",
      "1/1 [==============================] - 0s 154ms/step - loss: 0.0600 - val_loss: 0.0591\n",
      "Epoch 46/50\n",
      "1/1 [==============================] - 0s 225ms/step - loss: 0.0594 - val_loss: 0.0585\n",
      "Epoch 47/50\n",
      "1/1 [==============================] - 0s 174ms/step - loss: 0.0588 - val_loss: 0.0580\n",
      "Epoch 48/50\n",
      "1/1 [==============================] - 0s 164ms/step - loss: 0.0583 - val_loss: 0.0574\n",
      "Epoch 49/50\n",
      "1/1 [==============================] - 0s 168ms/step - loss: 0.0577 - val_loss: 0.0568\n",
      "Epoch 50/50\n",
      "1/1 [==============================] - 0s 179ms/step - loss: 0.0571 - val_loss: 0.0563\n"
     ]
    }
   ],
   "source": [
    "history = autoencoder.fit(X_train, X_train, epochs=50, batch_size=48000, shuffle=True, \n",
    "                validation_data=(X_valid, X_valid))"
   ]
  },
  {
   "cell_type": "code",
   "execution_count": 8,
   "metadata": {},
   "outputs": [
    {
     "data": {
      "image/png": "[encoded data removed]",
      "text/plain": [
       "<Figure size 640x480 with 1 Axes>"
      ]
     },
     "metadata": {},
     "output_type": "display_data"
    }
   ],
   "source": [
    "import matplotlib.pyplot as plt\n",
    "%matplotlib inline\n",
    "\n",
    "loss     = history.history['loss']\n",
    "val_loss = history.history['val_loss']\n",
    "# mse = history.history['mean_squared_error']\n",
    "# val_mse = history.history['val_mean_squared_error']\n",
    "\n",
    "nb_epoch = len(loss)\n",
    "plt.plot(range(nb_epoch), loss,     marker='.', label='loss')\n",
    "# plt.plot(range(nb_epoch), mse,     marker='.', label='mse')\n",
    "plt.plot(range(nb_epoch), val_loss, marker='.', label='val_loss')\n",
    "# plt.plot(range(nb_epoch), val_mse, marker='.', label='val_mse')\n",
    "plt.legend(loc='best', fontsize=10)\n",
    "plt.grid()\n",
    "plt.xlabel('epoch')\n",
    "plt.ylabel('loss')\n",
    "plt.show()"
   ]
  },
  {
   "cell_type": "code",
   "execution_count": 10,
   "metadata": {},
   "outputs": [
    {
     "name": "stdout",
     "output_type": "stream",
     "text": [
      "1500/1500 [==============================] - 2s 1ms/step\n"
     ]
    },
    {
     "data": {
      "text/plain": [
       "0.056558784"
      ]
     },
     "execution_count": 10,
     "metadata": {},
     "output_type": "execute_result"
    }
   ],
   "source": [
    "from sklearn.metrics import mean_squared_error\n",
    "\n",
    "mse = mean_squared_error(X_train, autoencoder.predict(X_train))\n",
    "mse\n",
    "\n"
   ]
  },
  {
   "cell_type": "code",
   "execution_count": 12,
   "metadata": {},
   "outputs": [
    {
     "name": "stdout",
     "output_type": "stream",
     "text": [
      "1500/1500 [==============================] - 2s 1ms/step\n"
     ]
    },
    {
     "data": {
      "image/png": "[encoded data removed]",
      "text/plain": [
       "<Figure size 640x480 with 1 Axes>"
      ]
     },
     "metadata": {},
     "output_type": "display_data"
    },
    {
     "name": "stdout",
     "output_type": "stream",
     "text": [
      "Reconstruction error threshold:  0.25696424\n"
     ]
    }
   ],
   "source": [
    "# Get train MAE loss.\n",
    "X_train_pred = autoencoder.predict(X_train)\n",
    "train_mse_loss = np.mean(np.abs(X_train_pred - X_train), axis=1)\n",
    "\n",
    "plt.hist(train_mse_loss, bins=50)\n",
    "plt.xlabel(\"Train MSE loss\")\n",
    "plt.ylabel(\"No of samples\")\n",
    "plt.show()\n",
    "\n",
    "# Get reconstruction loss threshold.\n",
    "threshold = np.max(train_mse_loss)\n",
    "print(\"Reconstruction error threshold: \", threshold)"
   ]
  },
  {
   "cell_type": "code",
   "execution_count": 13,
   "metadata": {},
   "outputs": [
    {
     "name": "stdout",
     "output_type": "stream",
     "text": [
      "375/375 [==============================] - 1s 2ms/step\n"
     ]
    },
    {
     "data": {
      "image/png": "[encoded data removed]",
      "text/plain": [
       "<Figure size 640x480 with 1 Axes>"
      ]
     },
     "metadata": {},
     "output_type": "display_data"
    },
    {
     "name": "stdout",
     "output_type": "stream",
     "text": [
      "Reconstruction error threshold:  0.31257436\n"
     ]
    }
   ],
   "source": [
    "# Get valid MSE loss.\n",
    "X_valid_pred = autoencoder.predict(X_valid)\n",
    "valid_mse_loss = np.mean(np.abs(X_valid_pred - X_valid), axis=1)\n",
    "\n",
    "plt.hist(valid_mse_loss, bins=50)\n",
    "plt.xlabel(\"Valid MSE loss\")\n",
    "plt.ylabel(\"No of samples\")\n",
    "plt.show()\n",
    "\n",
    "# Get reconstruction loss threshold.\n",
    "threshold = np.max(valid_mse_loss)\n",
    "print(\"Reconstruction error threshold: \", threshold)"
   ]
  },
  {
   "cell_type": "markdown",
   "metadata": {},
   "source": [
    "# Model saving"
   ]
  }
 ],
 "metadata": {
  "kernelspec": {
   "display_name": "ccfd_2",
   "language": "python",
   "name": "python3"
  },
  "language_info": {
   "codemirror_mode": {
    "name": "ipython",
    "version": 3
   },
   "file_extension": ".py",
   "mimetype": "text/x-python",
   "name": "python",
   "nbconvert_exporter": "python",
   "pygments_lexer": "ipython3",
   "version": "3.9.18"
  }
 },
 "nbformat": 4,
 "nbformat_minor": 2
}
