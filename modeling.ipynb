{
 "cells": [
  {
   "cell_type": "markdown",
   "metadata": {},
   "source": [
    "# Preparation"
   ]
  },
  {
   "cell_type": "code",
   "execution_count": 1,
   "metadata": {},
   "outputs": [],
   "source": [
    "# # These are my default settings\n",
    "# import warnings\n",
    "# warnings.filterwarnings(\"ignore\")\n",
    "\n",
    "# import os\n",
    "# from tqdm import tqdm\n",
    "# import pandas as pd\n",
    "# import numpy as np\n",
    "# import matplotlib.pyplot as plt\n",
    "# %matplotlib inline\n",
    "# import seaborn as sns\n",
    "# import joblib\n",
    "\n",
    "# plt.rcParams[\"figure.figsize\"] = (12, 6)\n",
    "# sns.set()\n",
    "# pd.set_option(\"display.max_columns\", None)\n",
    "\n",
    "# import zipfile\n",
    "# import shutil\n",
    "\n",
    "# # optimized sklearn patch from intel distribution\n",
    "# from sklearnex import unpatch_sklearn\n",
    "# unpatch_sklearn()"
   ]
  },
  {
   "cell_type": "markdown",
   "metadata": {},
   "source": [
    "# Loading train and valid data"
   ]
  },
  {
   "cell_type": "code",
   "execution_count": 2,
   "metadata": {},
   "outputs": [
    {
     "name": "stdout",
     "output_type": "stream",
     "text": [
      "(48000, 784) (48000,) (12000, 784) (12000,)\n"
     ]
    }
   ],
   "source": [
    "import numpy as np\n",
    "file_path = \"./save_file/\"\n",
    "\n",
    "X_train = np.load(file_path + 'X_train.npy')\n",
    "y_train = np.load(file_path + 'y_train.npy')\n",
    "X_valid = np.load(file_path + 'X_valid.npy')\n",
    "y_valid = np.load(file_path + 'y_valid.npy')\n",
    "\n",
    "print(X_train.shape, y_train.shape, X_valid.shape, y_valid.shape)\n"
   ]
  },
  {
   "cell_type": "markdown",
   "metadata": {},
   "source": [
    "# Modeling"
   ]
  },
  {
   "cell_type": "code",
   "execution_count": 3,
   "metadata": {},
   "outputs": [],
   "source": [
    "import tensorflow as tf\n",
    "from tensorflow.keras import layers, losses\n",
    "from tensorflow.keras.models import Model, Sequential\n",
    "# from tensorflow.keras.callbacks import EarlyStopping, ModelCheckpoint, TensorBoard"
   ]
  },
  {
   "cell_type": "code",
   "execution_count": 4,
   "metadata": {},
   "outputs": [],
   "source": [
    "latent_dim = 64 \n",
    "\n",
    "class Autoencoder(Model):\n",
    "    def __init__(self, latent_dim):\n",
    "        super(Autoencoder, self).__init__()\n",
    "        self.latent_dim = latent_dim   \n",
    "        self.encoder = Sequential([\n",
    "        # layers.Flatten(),\n",
    "        layers.Dense(392, activation='relu'),\n",
    "        layers.Dense(latent_dim, activation='relu'),\n",
    "        ])\n",
    "        self.decoder = Sequential([\n",
    "        layers.Dense(392, activation='relu'),\n",
    "        layers.Dense(784, activation='sigmoid'),\n",
    "        # layers.Reshape((28, 28))\n",
    "        ])\n",
    "\n",
    "    def call(self, x):\n",
    "        encoded = self.encoder(x)\n",
    "        decoded = self.decoder(encoded)\n",
    "        return decoded\n",
    "\n",
    "autoencoder = Autoencoder(latent_dim)\n"
   ]
  },
  {
   "cell_type": "code",
   "execution_count": 5,
   "metadata": {},
   "outputs": [],
   "source": [
    "# model_dir = \"./model\"\n",
    "# log_dir = \"./logs\"\n",
    "\n",
    "# if not os.path.exists(model_dir):\n",
    "#     os.mkdir(model_dir)\n",
    "# if not os.path.exists(log_dir):\n",
    "#     os.mkdir(log_dir)\n",
    "\n",
    "# my_callbacks = [\n",
    "#     ModelCheckpoint(filepath=model_dir, monitor='val_loss', save_best_only=False),\n",
    "#     EarlyStopping(monitor='val_loss', min_delta=0, patience=10),\n",
    "#     TensorBoard(log_dir=log_dir)\n",
    "#     ]"
   ]
  },
  {
   "cell_type": "code",
   "execution_count": 6,
   "metadata": {},
   "outputs": [],
   "source": [
    "# Model compile\n",
    "\n",
    "autoencoder.compile(optimizer='adam', loss=losses.MeanSquaredError())"
   ]
  },
  {
   "cell_type": "code",
   "execution_count": 7,
   "metadata": {},
   "outputs": [
    {
     "name": "stdout",
     "output_type": "stream",
     "text": [
      "Epoch 1/50\n",
      "1/1 [==============================] - 4s 4s/step - loss: 0.2323 - val_loss: 0.2283\n",
      "Epoch 2/50\n",
      "1/1 [==============================] - 0s 200ms/step - loss: 0.2283 - val_loss: 0.2231\n",
      "Epoch 3/50\n",
      "1/1 [==============================] - 0s 172ms/step - loss: 0.2231 - val_loss: 0.2140\n",
      "Epoch 4/50\n",
      "1/1 [==============================] - 0s 188ms/step - loss: 0.2140 - val_loss: 0.2003\n",
      "Epoch 5/50\n",
      "1/1 [==============================] - 0s 183ms/step - loss: 0.2003 - val_loss: 0.1817\n",
      "Epoch 6/50\n",
      "1/1 [==============================] - 0s 196ms/step - loss: 0.1817 - val_loss: 0.1592\n",
      "Epoch 7/50\n",
      "1/1 [==============================] - 0s 183ms/step - loss: 0.1592 - val_loss: 0.1349\n",
      "Epoch 8/50\n",
      "1/1 [==============================] - 0s 167ms/step - loss: 0.1350 - val_loss: 0.1127\n",
      "Epoch 9/50\n",
      "1/1 [==============================] - 0s 184ms/step - loss: 0.1129 - val_loss: 0.0959\n",
      "Epoch 10/50\n",
      "1/1 [==============================] - 0s 192ms/step - loss: 0.0962 - val_loss: 0.0857\n",
      "Epoch 11/50\n",
      "1/1 [==============================] - 0s 174ms/step - loss: 0.0861 - val_loss: 0.0806\n",
      "Epoch 12/50\n",
      "1/1 [==============================] - 0s 185ms/step - loss: 0.0810 - val_loss: 0.0782\n",
      "Epoch 13/50\n",
      "1/1 [==============================] - 0s 189ms/step - loss: 0.0786 - val_loss: 0.0770\n",
      "Epoch 14/50\n",
      "1/1 [==============================] - 0s 187ms/step - loss: 0.0775 - val_loss: 0.0762\n",
      "Epoch 15/50\n",
      "1/1 [==============================] - 0s 171ms/step - loss: 0.0767 - val_loss: 0.0756\n",
      "Epoch 16/50\n",
      "1/1 [==============================] - 0s 166ms/step - loss: 0.0761 - val_loss: 0.0751\n",
      "Epoch 17/50\n",
      "1/1 [==============================] - 0s 173ms/step - loss: 0.0755 - val_loss: 0.0746\n",
      "Epoch 18/50\n",
      "1/1 [==============================] - 0s 194ms/step - loss: 0.0750 - val_loss: 0.0742\n",
      "Epoch 19/50\n",
      "1/1 [==============================] - 0s 197ms/step - loss: 0.0745 - val_loss: 0.0738\n",
      "Epoch 20/50\n",
      "1/1 [==============================] - 0s 182ms/step - loss: 0.0741 - val_loss: 0.0732\n",
      "Epoch 21/50\n",
      "1/1 [==============================] - 0s 173ms/step - loss: 0.0736 - val_loss: 0.0727\n",
      "Epoch 22/50\n",
      "1/1 [==============================] - 0s 195ms/step - loss: 0.0730 - val_loss: 0.0723\n",
      "Epoch 23/50\n",
      "1/1 [==============================] - 0s 195ms/step - loss: 0.0727 - val_loss: 0.0720\n",
      "Epoch 24/50\n",
      "1/1 [==============================] - 0s 201ms/step - loss: 0.0724 - val_loss: 0.0717\n",
      "Epoch 25/50\n",
      "1/1 [==============================] - 0s 203ms/step - loss: 0.0721 - val_loss: 0.0712\n",
      "Epoch 26/50\n",
      "1/1 [==============================] - 0s 184ms/step - loss: 0.0715 - val_loss: 0.0706\n",
      "Epoch 27/50\n",
      "1/1 [==============================] - 0s 167ms/step - loss: 0.0709 - val_loss: 0.0701\n",
      "Epoch 28/50\n",
      "1/1 [==============================] - 0s 163ms/step - loss: 0.0704 - val_loss: 0.0695\n",
      "Epoch 29/50\n",
      "1/1 [==============================] - 0s 167ms/step - loss: 0.0698 - val_loss: 0.0690\n",
      "Epoch 30/50\n",
      "1/1 [==============================] - 0s 177ms/step - loss: 0.0693 - val_loss: 0.0684\n",
      "Epoch 31/50\n",
      "1/1 [==============================] - 0s 182ms/step - loss: 0.0687 - val_loss: 0.0679\n",
      "Epoch 32/50\n",
      "1/1 [==============================] - 0s 190ms/step - loss: 0.0682 - val_loss: 0.0673\n",
      "Epoch 33/50\n",
      "1/1 [==============================] - 0s 183ms/step - loss: 0.0677 - val_loss: 0.0667\n",
      "Epoch 34/50\n",
      "1/1 [==============================] - 0s 183ms/step - loss: 0.0670 - val_loss: 0.0661\n",
      "Epoch 35/50\n",
      "1/1 [==============================] - 0s 194ms/step - loss: 0.0664 - val_loss: 0.0655\n",
      "Epoch 36/50\n",
      "1/1 [==============================] - 0s 182ms/step - loss: 0.0658 - val_loss: 0.0649\n",
      "Epoch 37/50\n",
      "1/1 [==============================] - 0s 185ms/step - loss: 0.0652 - val_loss: 0.0642\n",
      "Epoch 38/50\n",
      "1/1 [==============================] - 0s 181ms/step - loss: 0.0645 - val_loss: 0.0636\n",
      "Epoch 39/50\n",
      "1/1 [==============================] - 0s 145ms/step - loss: 0.0638 - val_loss: 0.0629\n",
      "Epoch 40/50\n",
      "1/1 [==============================] - 0s 135ms/step - loss: 0.0632 - val_loss: 0.0624\n",
      "Epoch 41/50\n",
      "1/1 [==============================] - 0s 151ms/step - loss: 0.0626 - val_loss: 0.0618\n",
      "Epoch 42/50\n",
      "1/1 [==============================] - 0s 148ms/step - loss: 0.0620 - val_loss: 0.0611\n",
      "Epoch 43/50\n",
      "1/1 [==============================] - 0s 152ms/step - loss: 0.0614 - val_loss: 0.0605\n",
      "Epoch 44/50\n",
      "1/1 [==============================] - 0s 145ms/step - loss: 0.0608 - val_loss: 0.0600\n",
      "Epoch 45/50\n",
      "1/1 [==============================] - 0s 167ms/step - loss: 0.0602 - val_loss: 0.0593\n",
      "Epoch 46/50\n",
      "1/1 [==============================] - 0s 141ms/step - loss: 0.0596 - val_loss: 0.0587\n",
      "Epoch 47/50\n",
      "1/1 [==============================] - 0s 167ms/step - loss: 0.0590 - val_loss: 0.0581\n",
      "Epoch 48/50\n",
      "1/1 [==============================] - 0s 166ms/step - loss: 0.0584 - val_loss: 0.0575\n",
      "Epoch 49/50\n",
      "1/1 [==============================] - 0s 150ms/step - loss: 0.0578 - val_loss: 0.0569\n",
      "Epoch 50/50\n",
      "1/1 [==============================] - 0s 166ms/step - loss: 0.0572 - val_loss: 0.0563\n"
     ]
    }
   ],
   "source": [
    "history = autoencoder.fit(X_train, X_train, epochs=50, batch_size=48000, shuffle=True, \n",
    "                validation_data=(X_valid, X_valid))"
   ]
  },
  {
   "cell_type": "code",
   "execution_count": 8,
   "metadata": {},
   "outputs": [
    {
     "data": {
      "image/png": "[encoded data removed]",
      "text/plain": [
       "<Figure size 640x480 with 1 Axes>"
      ]
     },
     "metadata": {},
     "output_type": "display_data"
    }
   ],
   "source": [
    "import matplotlib.pyplot as plt\n",
    "%matplotlib inline\n",
    "\n",
    "loss     = history.history['loss']\n",
    "val_loss = history.history['val_loss']\n",
    "# mse = history.history['mean_squared_error']\n",
    "# val_mse = history.history['val_mean_squared_error']\n",
    "\n",
    "nb_epoch = len(loss)\n",
    "plt.plot(range(nb_epoch), loss,     marker='.', label='loss')\n",
    "# plt.plot(range(nb_epoch), mse,     marker='.', label='mse')\n",
    "plt.plot(range(nb_epoch), val_loss, marker='.', label='val_loss')\n",
    "# plt.plot(range(nb_epoch), val_mse, marker='.', label='val_mse')\n",
    "plt.legend(loc='best', fontsize=10)\n",
    "plt.grid()\n",
    "plt.xlabel('epoch')\n",
    "plt.ylabel('loss')\n",
    "plt.show()"
   ]
  },
  {
   "cell_type": "code",
   "execution_count": 9,
   "metadata": {},
   "outputs": [
    {
     "name": "stdout",
     "output_type": "stream",
     "text": [
      "1500/1500 [==============================] - 2s 1ms/step\n"
     ]
    },
    {
     "data": {
      "text/plain": [
       "0.056590635"
      ]
     },
     "execution_count": 9,
     "metadata": {},
     "output_type": "execute_result"
    }
   ],
   "source": [
    "from sklearn.metrics import mean_squared_error\n",
    "\n",
    "mse = mean_squared_error(X_train, autoencoder.predict(X_train))\n",
    "mse\n",
    "\n"
   ]
  },
  {
   "cell_type": "code",
   "execution_count": 19,
   "metadata": {},
   "outputs": [
    {
     "name": "stdout",
     "output_type": "stream",
     "text": [
      "1500/1500 [==============================] - 2s 988us/step\n",
      "375/375 [==============================] - 0s 1ms/step\n",
      "Reconstruction error threshold (train):  0.19281483\n",
      "Reconstruction error threshold (valid):  0.24185827\n"
     ]
    },
    {
     "data": {
      "image/png": "[encoded data removed]",
      "text/plain": [
       "<Figure size 640x480 with 1 Axes>"
      ]
     },
     "metadata": {},
     "output_type": "display_data"
    }
   ],
   "source": [
    "import matplotlib.pyplot as plt\n",
    "\n",
    "\n",
    "# Get train MSE loss.\n",
    "X_train_pred = autoencoder.predict(X_train)\n",
    "train_mse_loss = np.mean(np.square(X_train_pred - X_train), axis=1)\n",
    "\n",
    "# Get valid MSE loss.\n",
    "valid_predictions = autoencoder.predict(X_valid)\n",
    "valid_mse_loss = np.mean(np.square(valid_predictions - X_valid), axis=1)\n",
    "\n",
    "# Get reconstruction loss threshold.\n",
    "threshold_train = np.max(train_mse_loss)\n",
    "threshold_valid = np.max(valid_mse_loss)\n",
    "print(\"Reconstruction error threshold (train): \", threshold_train)\n",
    "print(\"Reconstruction error threshold (valid): \", threshold_valid)\n",
    "\n",
    "# Plot histograms.\n",
    "plt.hist(train_mse_loss, bins=50, alpha=0.6, label='Train MSE loss')\n",
    "plt.hist(valid_mse_loss, bins=50, alpha=0.6, label='Validation MSE loss')\n",
    "plt.xlabel(\"MSE loss\")\n",
    "plt.ylabel(\"Number of samples\")\n",
    "plt.legend()\n",
    "plt.show()\n"
   ]
  },
  {
   "cell_type": "code",
   "execution_count": 20,
   "metadata": {},
   "outputs": [
    {
     "data": {
      "text/plain": [
       "array([[6.96143445e-08, 1.08407257e-07, 5.43091062e-07, ...,\n",
       "        1.29408889e-07, 1.75744148e-07, 5.60026692e-08],\n",
       "       [9.57992626e-12, 1.09365928e-11, 5.77531134e-10, ...,\n",
       "        6.94609092e-11, 7.19368662e-11, 3.62774949e-11],\n",
       "       [2.11331994e-12, 5.14322179e-12, 1.30520733e-10, ...,\n",
       "        9.51576838e-12, 8.55714735e-11, 1.06068435e-11],\n",
       "       ...,\n",
       "       [8.56233413e-08, 1.23911747e-07, 4.46522506e-07, ...,\n",
       "        8.19480164e-08, 2.16924022e-07, 6.87466368e-08],\n",
       "       [6.52243415e-08, 8.38005292e-08, 5.19748539e-07, ...,\n",
       "        1.59386346e-07, 1.68875516e-07, 4.90401959e-08],\n",
       "       [2.56216177e-11, 3.54526061e-11, 2.60830202e-09, ...,\n",
       "        4.39152187e-10, 5.23463384e-10, 1.80323992e-10]], dtype=float32)"
      ]
     },
     "execution_count": 20,
     "metadata": {},
     "output_type": "execute_result"
    }
   ],
   "source": [
    "valid_predictions"
   ]
  },
  {
   "cell_type": "markdown",
   "metadata": {},
   "source": [
    "# Model saving"
   ]
  },
  {
   "cell_type": "code",
   "execution_count": 15,
   "metadata": {},
   "outputs": [
    {
     "name": "stdout",
     "output_type": "stream",
     "text": [
      "INFO:tensorflow:Assets written to: ./Model\\assets\n"
     ]
    }
   ],
   "source": [
    "autoencoder.save('./Model')"
   ]
  },
  {
   "cell_type": "code",
   "execution_count": null,
   "metadata": {},
   "outputs": [],
   "source": []
  }
 ],
 "metadata": {
  "kernelspec": {
   "display_name": "ccfd_2",
   "language": "python",
   "name": "python3"
  },
  "language_info": {
   "codemirror_mode": {
    "name": "ipython",
    "version": 3
   },
   "file_extension": ".py",
   "mimetype": "text/x-python",
   "name": "python",
   "nbconvert_exporter": "python",
   "pygments_lexer": "ipython3",
   "version": "3.9.18"
  }
 },
 "nbformat": 4,
 "nbformat_minor": 2
}
